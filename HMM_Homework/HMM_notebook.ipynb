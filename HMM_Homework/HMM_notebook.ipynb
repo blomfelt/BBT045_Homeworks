{
 "cells": [
  {
   "cell_type": "markdown",
   "id": "410790fb-e14d-4a78-9979-fa9a577f6395",
   "metadata": {},
   "source": [
    "Student: Felix Blomfelt\n",
    "\n",
    "My \"own\" (pilfered from you) code starts at [#4. Assignment: Build a better HMM](#4.-Assignment:-Build-a-better-HMM).\n",
    "\n",
    "For the answers to the questions see [#5. Questions](#5.-Questions)"
   ]
  },
  {
   "cell_type": "markdown",
   "id": "5f1c8e63-f6d4-494c-a170-325f1d5cdb2c",
   "metadata": {},
   "source": [
    "# Instructions\n",
    "\n",
    "For this homework, your task is to build an HMM model for annotating S. cerevisiae. Please read through the instructions before you start, to best plan your work.\n",
    "\n",
    "The work is split up in four sections:\n",
    "\n",
    "0. Setting up your directories and getting your data \n",
    "1. getting baseline results with the HMM-based tool Augustus (code provided)\n",
    "2. reading a little reference material on HMM gene prediction\n",
    "3. Going through a toy example that will show you how to:\n",
    "    * Initiate an HMM model in the R package HMM\n",
    "    * Use the defined helper functions to extract data sets and  \n",
    "    * Train a model on data \n",
    "    * compare a trained model with base line results from augustus\n",
    "4. building and training your own HMM\n",
    "\n",
    "**To complete this homework you need to:**\n",
    "\n",
    "    1. Initiate your own HMM model (DO NOT USE THE SIMPLE 2 STATE EXAMPLE!!!)\n",
    "        * Explain the architecture of your model states emmissions etc.\n",
    "        * Explain what initial parameters you chose and why.\n",
    "        * Explain if you use any of the references provided or you found your own.\n",
    "        * Explain if you did test different model architectures or different initial parameters (Not a requirement that you do)\n",
    "    2. Train your model on data\n",
    "        * Explain what data you used as training data and why (what chromosomes)\n",
    "        * Explain what training algorithm you used, did you test both?\n",
    "        * Explain how many training iterations did you use and why that number.\n",
    "    3. Evaluate your model with augustus results as shown in the example code.\n",
    "        * Explain what data you used as testing data (should not be the same as training data).\n",
    "        * Show at least three histograms with the augustus results initial model and trained model\n",
    "        * Discuss shortly the evaluation, did your model improve with training, did you get close to augustus?\n",
    "    4. Given unlimited resorces in both compute and time would you have liked test something more? (just a few sentences)\n",
    "    \n",
    "You can work in this notebook and put in your own code. The answers you can type in at the very bottom or in a separate .txt file named Answers-HW4 The histograms can still be in the notebook just specify what line they are generated at. \n",
    "\n",
    "This homework together with the project is meant for you to feel a little of how it is like to work as a bioinformatician. Thus, for this homework feel free to experiment and change things if you think there is a better way to do things another way. Just specify what you changed and why. There is of course obvious ways to improve validation and also the annotation of the genes with different patterns. **Most importantly this is meant to be fun!**  \n",
    "\n",
    "# 0. Setting up your directory\n",
    "Start by making a HW4 directory. In your HW4 directory you will create a results directory and you will create a data directory. In your data directory you'll place a copy of the file S288C_reference_sequence_R64-2-1_20150113.fsa that we used in the Unix HW. This notebook should be placed in the HW4 directory. After that we should be god to go.  \n",
    "\n",
    "\n",
    "# 1. Baseline Results\n",
    "The Augustus base line annotated can be found at /cephyr/NOBACKUP/groups/bbt045_2024/data/ref_annot_augustus.aa. Don't run the augustus commands just proceed to the next step.\n",
    "\n",
    "# 2. Literature\n",
    "\n",
    "Read at least the 2 references below (a few pages), to recap the concepts and to maybe get a model as your starting point.\n",
    "Please very briefly describe your chosen model. Why did you or the authors chose the sates you did? Did the authors mention why they chose the probabilities they did? If you created your own model, how did you decide the probabilities?\n",
    "\n",
    "References:\n",
    "\n",
    "- Quick recap of gene annotation with HMMs, along with a simple example model [What is a hidden Markov model?](https://www.nature.com/articles/nbt1004-1315)\n",
    "\n",
    "- Some lecture slides from the University of Waterloo (pages 1-14 cover models like we've discussed). You could use the model on page 9 as a starting point https://www.math.uwaterloo.ca/~aghodsib/courses/w05stat440/w05stat440-notes/feb27.pdf\n",
    "\n",
    "- Yet another article describing a number of HMM classes for sequence analysis The model in 2.2. (Fig. 1) could also be a starting point https://www.ncbi.nlm.nih.gov/pmc/articles/PMC2766791/\n",
    "\n",
    "\n",
    "# 3. The basic (2-state) model \n",
    "\n",
    "We'll be playing with simple HMMs using the HMM package, the documentation can be found here [HMM](https://cran.r-project.org/web/packages/HMM/HMM.pdf)."
   ]
  },
  {
   "cell_type": "markdown",
   "id": "95840349-0b0f-45b8-8af0-b1f90e00e819",
   "metadata": {},
   "source": [
    "# Imports"
   ]
  },
  {
   "cell_type": "code",
   "execution_count": 1,
   "id": "0cd3e7ac-db04-4871-84f4-7d67d96f3751",
   "metadata": {},
   "outputs": [],
   "source": [
    "# System\n",
    "import time\n",
    "\n",
    "# Biology\n",
    "from Bio.Seq import Seq\n",
    "from Bio.SeqRecord import SeqRecord\n",
    "from Bio.Seq import translate\n",
    "from Bio import SeqIO\n",
    "#from Bio.Alphabet import IUPAC\n",
    "\n",
    "# ML, ALG, and NLP \n",
    "import re\n",
    "from hmmlearn import hmm\n",
    "import numpy as np\n",
    "\n",
    "# Plotting\n",
    "import matplotlib.pyplot as plt"
   ]
  },
  {
   "cell_type": "markdown",
   "id": "6f494a7d-010f-4c44-ba2a-918b33ad15ec",
   "metadata": {},
   "source": [
    "### Defining some helper functions\n",
    "You will use these functions when you set up your own experiments. \n",
    "\n",
    "1. `preparing_observations(set, indices)` helps you prepare your data sets \n",
    "    * set: expects a DNAStringSet (your loaded reference genome)\n",
    "    * indices: expect indices of which chromosomes to load (1-17)\n",
    "    * returns: list of observations\n",
    "2. `get_gene_start_and_stop_from_annotation(annotation_list, pattern)` helps you get the indices of annotated genes\n",
    "    * annotation_list: expects annotated observations as a list.\n",
    "    * pattern: expects regex string (use default 'C+' to get all starts and stops of stretches of C)\n",
    "    * returns: list of start and stop indices for annotated genes (as pattern describes)\n",
    "3. `convert_to_proteins(indices, string)` helps you to translate annotated genes to proteins\n",
    "    * indices: expect output from get_gene_start_stop (first half of list start indices second half stop indices)\n",
    "    * string: expects DNAString to be translated\n",
    "    * returns: list of proteins "
   ]
  },
  {
   "cell_type": "code",
   "execution_count": 2,
   "id": "5a9c50b2-c819-4c51-a2ee-7f045f94e67a",
   "metadata": {},
   "outputs": [],
   "source": [
    "\n",
    "\n",
    "def get_gene_start_and_stop_from_annotation(annotation_list, pattern):\n",
    "    # Function that returns indices of all matches to the pattern\n",
    "    annotation_string = convert_list_to_string(annotation_list)\n",
    "    list_of_indices = [match.span() for match in re.finditer(pattern, annotation_string)]\n",
    "    return list_of_indices\n",
    "\n",
    "def convert_list_to_string(lst):\n",
    "    # Helper function that converts lists of individual letters into DNA strings\n",
    "    return ''.join(lst)\n",
    "\n",
    "def convert_string_to_list(string):\n",
    "    # Helper function that converts DNA strings into lists of individual letters\n",
    "    return list(string)\n",
    "\n",
    "def convert_to_protein(start, stop, string=\"\"):\n",
    "    # Convert a DNA string to an AA sequence between the start and stop indices\n",
    "\n",
    "    dna_seq = Seq(string[start:stop])#, IUPAC.unambiguous_dna)\n",
    "    return str(dna_seq.translate())\n",
    "\n",
    "def convert_to_proteins(indices, string):\n",
    "    # Function that converts the DNA string into proteins where the indices indicate the coding regions\n",
    "    #n_indices = len(indices) // 2\n",
    "    indices = np.array(indices)\n",
    "    start = indices[:, 0]\n",
    "    stop  = indices[:, 1]\n",
    "    proteins = [convert_to_protein(i_start, i_stop, string) for i_start, i_stop in zip(start, stop)]\n",
    "    return proteins\n",
    "\n",
    "def preparing_observations(seq_set, indices):\n",
    "    # Prepare data by concatenating all the DNA strings specified by indices\n",
    "    observations = ''.join([convert_list_to_string(seq_set[i]) for i in indices])\n",
    "    return observations\n",
    "\n",
    "def check_for_stop_codon(list_proteins):\n",
    "    n_stop_codon = 0\n",
    "    for prot in list_proteins:\n",
    "        n_stop_codon += prot.count('*')\n",
    "    return n_stop_codon\n",
    "\n",
    "# Define function to extract sequence from reference genome set\n",
    "def extract_sequence(genome_set, chromosome_indices):\n",
    "    sequences = []\n",
    "    for index in chromosome_indices:\n",
    "        sequences.append(str(genome_set[index - 1].seq))\n",
    "    return sequences\n",
    "\n",
    "\n",
    "### Model DEFINES\n",
    "\n",
    "# Define the hidden states of your HMM model\n",
    "states = [\"C\", \"N\"] # Coding: C; None coding: N\n",
    "\n",
    "# Conversion dictionary states (char to int)\n",
    "id2region = dict(zip(range(len(states)), states))\n",
    "\n",
    "vocabulary = [\"A\", \"C\", \"G\", \"T\"]\n",
    "# Convert \"sentences\" to numbers:\n",
    "vocab2id = dict(zip(vocabulary, range(len(vocabulary))))\n",
    "id2vocab = {value: key for key, value in vocab2id.items()}\n"
   ]
  },
  {
   "cell_type": "markdown",
   "id": "ea64f718-ca5f-415a-8a4f-7ae68f707292",
   "metadata": {},
   "source": [
    "### Prepare Data\n",
    "\n",
    "We start by loading the reference proteins precomputed by Augustis.\n",
    "\n",
    "To train our HMM model the HMM module expects the observations to be in a sequence form, we can do this by using the helper function `preparing_observations(set, indices)` and give it the arguments set and indices. Set is the DNAstring set (reference genome) and indices is a vector specifying which chromosomes to load.\n",
    "\n",
    "When training a model it is **important to validate your improved model on data that the model has not yet seen**. Thus we will prepare **two** data sets one for **training** and one for **testing**. We do this separation by choosing different chromosomes for the two different sets. in the code below we have chosen chromosome 1-2 for the training set and chromosome 3-4 for the test set."
   ]
  },
  {
   "cell_type": "code",
   "execution_count": 3,
   "id": "982e736c-0e0a-43ca-b7be-b2f22b8b87eb",
   "metadata": {},
   "outputs": [],
   "source": [
    "# Load agustus reference\n",
    "reference_agustus_set = list(SeqIO.parse(\"data/ref_annot_augustus.aa\", \"fasta\"))\n",
    "proteins_agustus = extract_sequence(reference_agustus_set, [i for i in  range(len(reference_agustus_set))])\n",
    "\n",
    "\n",
    "# Load reference genome\n",
    "reference_genome_set = list(SeqIO.parse(\"data/S288C_reference_sequence_R64-4-1_20230830.fsa\", \"fasta\"))\n",
    "\n",
    "\n",
    "# Preparing training set using chromosome 1-2\n",
    "training_observations = extract_sequence(reference_genome_set, [1, 2])\n",
    "\n",
    "# Preparing test set using chromosomes 3-4\n",
    "test_observations = extract_sequence(reference_genome_set, [3, 4])\n",
    "test_observations_string = \"\".join(test_observations)\n",
    "\n",
    "X = []\n",
    "for chromosome in training_observations:\n",
    "    row = []\n",
    "    for char in chromosome:\n",
    "        row.append([vocab2id[char]])\n",
    "    X.append(row)\n",
    "    \n",
    "X_training = np.concatenate(X)  \n",
    "lengths_training = [len(x) for x in X]\n",
    "\n",
    "X = []\n",
    "for chromosome in test_observations:\n",
    "    row = []\n",
    "    for char in chromosome:\n",
    "        row.append([vocab2id[char]])\n",
    "    X.append(row)\n",
    "    \n",
    "X_test = np.concatenate(X)  \n",
    "lengths_test = [len(x) for x in X]"
   ]
  },
  {
   "cell_type": "markdown",
   "id": "4de0a4e3-45aa-4fd7-805f-ee1c5e4ac9a1",
   "metadata": {},
   "source": [
    "### Initiate HMM model\n",
    "\n",
    "Now it's time to initiate our model, we can do that with the function `hmm.CategoricalHMM` which is part of the HMM module.\n",
    "We need to specify starting values for the start/transition/emission probabilities as well as the state/emission symbols. \n",
    "Below is the same basic model we've seen in the lecture and exercise, provided to show how to use the package.\n",
    "Skim through the short hmm tutorial to fix some concepts if the code/comments below are confusing."
   ]
  },
  {
   "cell_type": "code",
   "execution_count": 4,
   "id": "70ffaa45-a9fc-44a7-9f1d-0f24d07cb56a",
   "metadata": {},
   "outputs": [],
   "source": [
    "# Model Parameters\n",
    "start_probs = np.array([0.3, 0.7])\n",
    "emission_probs = np.array([[0.3, 0.1], \n",
    "                           [0.3, 0.1],\n",
    "                           [0.2, 0.4],\n",
    "                           [0.2, 0.4]]).T\n",
    "trans_mat = np.array([[0.995, 0.005],  \n",
    "                      [0.01, 0.99]])\n",
    "\n",
    "\n",
    "# Initiating a simple HMM model\n",
    "gene_annot_model = hmm.CategoricalHMM(n_components=2, n_iter=50, init_params='')\n",
    "\n",
    " #Set the initial parameters\n",
    "gene_annot_model.startprob_ = start_probs  # Initial probabilities for each state\n",
    "gene_annot_model.transmat_ = trans_mat  # Transition probabilities between states                       \n",
    "gene_annot_model.emissionprob_ = emission_probs  # Emission probabilities for each symbol in each state\n",
    "                                  "
   ]
  },
  {
   "cell_type": "markdown",
   "id": "ed1893e6-9ae4-4bc1-be14-d8abf3a88a32",
   "metadata": {},
   "source": [
    "### Evaluate initial model\n",
    "\n",
    "It is always a good idea to evaluate the initial starting point of your model to make sure that your prior assumtions are resonable.\n",
    "\n",
    "We will be evaluating the models with two simple independent metrics. The first evaluate the lengths of the predicted proteins and the second count the number of stop codones (denoted by \"*\" in the translated proteins) that the predicted sequences contain. The stop codons can be counted with `check_for_stop_codon()`\n"
   ]
  },
  {
   "cell_type": "code",
   "execution_count": 5,
   "id": "3d5aecd1-e559-4707-b4a5-df6eae76e31d",
   "metadata": {},
   "outputs": [
    {
     "name": "stderr",
     "output_type": "stream",
     "text": [
      "/opt/conda/lib/python3.10/site-packages/Bio/Seq.py:2880: BiopythonWarning: Partial codon, len(sequence) not a multiple of three. Explicitly trim the sequence or add trailing N before translation. This may become an error in future.\n",
      "  warnings.warn(\n"
     ]
    }
   ],
   "source": [
    "PATTERN = \"C+\"  # Simple pattern getting the annotation You might also want to check with the other state (N+)\n",
    "\n",
    "# Using Viterbi algorithm to predict annotations with initial model\n",
    "annotation_initial_model_int = gene_annot_model.predict(X_test, lengths_test)\n",
    "annotation_initial_model_char = [ id2region[_id] for _id in annotation_initial_model_int] \n",
    "\n",
    "# Getting start and stop indices of annotations for initial model\n",
    "annotation_indices_initial_model = get_gene_start_and_stop_from_annotation(annotation_initial_model_char, PATTERN)\n",
    "# Getting start and stop indices of annotations for trained model\n",
    "\n",
    "# Converting annotations to proteins for initial model\n",
    "proteins_initial_model = convert_to_proteins(annotation_indices_initial_model, test_observations_string)"
   ]
  },
  {
   "cell_type": "code",
   "execution_count": 6,
   "id": "e97f89b2-3e14-47ca-b86e-d2a51e8a10c0",
   "metadata": {},
   "outputs": [
    {
     "name": "stdout",
     "output_type": "stream",
     "text": [
      "The initial model has predicted: 32604 Stop Codons as coding \n"
     ]
    },
    {
     "data": {
      "image/png": "[encoded data removed]",
      "text/plain": [
       "<Figure size 1000x500 with 2 Axes>"
      ]
     },
     "metadata": {},
     "output_type": "display_data"
    }
   ],
   "source": [
    "# Counting Stop codons\n",
    "n_StopCodons_initial_model = check_for_stop_codon(proteins_initial_model)\n",
    "\n",
    "print(f\"The initial model has predicted: {n_StopCodons_initial_model} Stop Codons as coding \")\n",
    "\n",
    "# Getting widths of sequences\n",
    "width_augustus = [len(seq) for seq in proteins_agustus]\n",
    "width_initial_model = [len(seq) for seq in proteins_initial_model]\n",
    "#width_trained_model = [len(seq) for seq in proteins_trained_model]\n",
    "\n",
    "# Plotting histograms\n",
    "plt.figure(figsize=(10, 5))\n",
    "\n",
    "plt.subplot(1, 3, 1)\n",
    "plt.hist(width_augustus, bins=20, color='blue', alpha=0.7)\n",
    "plt.title('Augustus Annotations')\n",
    "plt.xlabel('Length')\n",
    "plt.ylabel('Frequency')\n",
    "\n",
    "plt.subplot(1, 3, 2)\n",
    "plt.hist(width_initial_model, bins=20, color='green', alpha=0.7)\n",
    "plt.title('Initial Model Predictions')\n",
    "plt.xlabel('Length')\n",
    "plt.ylabel('Frequency')\n",
    "\n",
    "\n",
    "plt.tight_layout()\n",
    "plt.show()"
   ]
  },
  {
   "cell_type": "markdown",
   "id": "74200127-0772-442d-b9aa-14e1f71876f6",
   "metadata": {},
   "source": [
    "### Training model\n",
    "\n",
    "Now that we have initialized our model and created our training data we are ready to start training the model. We do that by caling the function `model.fit(training_data, training_data_lengths)` this will train the model using the viterbi algorithm. \n",
    "\n",
    "Notes: \n",
    "\n",
    "1. We train our model on training data.\n",
    "2. We can set the number of iterations to train for by changing the `n_iter` parameter when initialising the model. \n",
    "3. In this example we have wraped the training expression  in `time.time()` to get the running time for the training. "
   ]
  },
  {
   "cell_type": "code",
   "execution_count": 7,
   "id": "5e331016-ed9f-4ac1-a84f-2999c1f5dccb",
   "metadata": {},
   "outputs": [
    {
     "name": "stdout",
     "output_type": "stream",
     "text": [
      "Execution time: 20.730897665023804 seconds\n"
     ]
    }
   ],
   "source": [
    "\n",
    "start_time = time.time()\n",
    "\n",
    "# Training the model using Viterbi training\n",
    "gene_annot_model.fit(X_training, lengths_training)\n",
    "\n",
    "end_time = time.time()\n",
    "execution_time = end_time - start_time\n",
    "\n",
    "print(\"Execution time:\", execution_time, \"seconds\")\n"
   ]
  },
  {
   "cell_type": "markdown",
   "id": "768d9e11-fa0f-4da7-b1a0-db4a1c5f5233",
   "metadata": {},
   "source": [
    "### Saving model and loading model\n",
    "\n",
    "We dont have this as part of this homework but it could be convinent for you to save parameter values once models are trained (it can take a long time to train models). Maybe you would like to return to a model for further testing or you are supper happy with it and wants to save it to use it later. You can read up on saving and loading basic data object in Python on [saving data](https://hmmlearn.readthedocs.io/en/latest/tutorial.html)\n",
    "\n",
    "### Annotate chromosome\n",
    "\n",
    "Once the model is trained we can use the trained model to annotate our test chromosome with `C` or `N` (coding or non-coding nucleobase). We do this with the function `HMM_model.predict(observations)`, below we annotate the test set both using the initial model and the model that we trained. \n",
    "\n",
    "After annotating we can gather the indices for the predicted coding regions of the test data. With the indices of the coding region and the DNA sequence we can translate the regions in to their respective proteins with the helper function `convert_to_proteins(indices, observations)`."
   ]
  },
  {
   "cell_type": "code",
   "execution_count": 8,
   "id": "76f840f6-68bd-4957-919e-a8e0bb54c456",
   "metadata": {},
   "outputs": [
    {
     "name": "stderr",
     "output_type": "stream",
     "text": [
      "/opt/conda/lib/python3.10/site-packages/Bio/Seq.py:2880: BiopythonWarning: Partial codon, len(sequence) not a multiple of three. Explicitly trim the sequence or add trailing N before translation. This may become an error in future.\n",
      "  warnings.warn(\n"
     ]
    }
   ],
   "source": [
    "\n",
    "\n",
    "PATTERN = \"C+\"  # Simple pattern getting the annotation You might want to try \"N+\" as well as the model does not know the difference between C and N\n",
    "\n",
    "# Using Viterbi algorithm to predict annotations with initial model\n",
    "annotation_trained_model_int = gene_annot_model.predict(X_test, lengths_test)\n",
    "annotation_trained_model_char = [ id2region[_id] for _id in annotation_trained_model_int] \n",
    "\n",
    "# Getting start and stop indices of annotations for initial model\n",
    "annotation_indices_trained_model = get_gene_start_and_stop_from_annotation(annotation_trained_model_char, PATTERN)\n",
    "\n",
    "# Converting annotations to proteins for initial model\n",
    "proteins_trained_model = convert_to_proteins(annotation_indices_trained_model, test_observations_string)\n",
    "\n",
    "\n"
   ]
  },
  {
   "cell_type": "code",
   "execution_count": 9,
   "id": "e7fb0dd6-c6bc-470c-b358-31512930d889",
   "metadata": {},
   "outputs": [
    {
     "name": "stdout",
     "output_type": "stream",
     "text": [
      "The initial model has predicted: 32604 Stop Codons as coding \n",
      "The trained model has predicted: 27430 Stop Codons as coding \n"
     ]
    },
    {
     "data": {
      "image/png": "[encoded data removed]",
      "text/plain": [
       "<Figure size 1000x500 with 3 Axes>"
      ]
     },
     "metadata": {},
     "output_type": "display_data"
    }
   ],
   "source": [
    "n_StopCodons_trained_model = check_for_stop_codon(proteins_trained_model)\n",
    "\n",
    "print(f\"The initial model has predicted: {n_StopCodons_initial_model} Stop Codons as coding \")\n",
    "print(f\"The trained model has predicted: {n_StopCodons_trained_model} Stop Codons as coding \")\n",
    "\n",
    "# Getting widths of sequences\n",
    "width_augustus = [len(seq) for seq in proteins_agustus]\n",
    "width_initial_model = [len(seq) for seq in proteins_initial_model]\n",
    "width_trained_model = [len(seq) for seq in proteins_trained_model]\n",
    "\n",
    "# Plotting histograms\n",
    "plt.figure(figsize=(10, 5))\n",
    "\n",
    "plt.subplot(1, 3, 1)\n",
    "plt.hist(width_augustus, bins=20, color='blue', alpha=0.7)\n",
    "plt.title('Augustus Annotations')\n",
    "plt.xlabel('Length')\n",
    "plt.ylabel('Frequency')\n",
    "\n",
    "plt.subplot(1, 3, 2)\n",
    "plt.hist(width_initial_model, bins=20, color='green', alpha=0.7)\n",
    "plt.title('Initial Model Predictions')\n",
    "plt.xlabel('Length')\n",
    "plt.ylabel('Frequency')\n",
    "\n",
    "plt.subplot(1, 3, 3)\n",
    "plt.hist(width_trained_model, bins=20, color='orange', alpha=0.7)\n",
    "plt.title('Trained Model Predictions')\n",
    "plt.xlabel('Length')\n",
    "plt.ylabel('Frequency')\n",
    "\n",
    "plt.tight_layout()\n",
    "plt.show()"
   ]
  },
  {
   "cell_type": "markdown",
   "id": "6a19a67d-20b1-4663-b68c-4e62213193eb",
   "metadata": {},
   "source": [
    "### Some caveats\n",
    "\n",
    "1: The Augustus distribution is from the whole genome not just the training set, if you want to you can save the specific chromosomes that you have in your test set in a separate .fasta file and re run augustus on that to only extract the proteins corresponding to chromosomes in your test set. In a real world scenario that would be the way to do it. However we don't expect to much differences in the length distribution between chromosomes.  \n",
    "\n",
    "2: There are other methods for measuring the performance of your model, you could for example download the proteome from a data base like NCBI instead of using Augustus. You could also compare the proteins predicted by your model and the reference proteome using MSA to see the differences, for our purposes that is over kill. \n",
    "\n",
    "3: Here we used a simple model with only two states coding and non-coding however DNA, as you know, have many more distinct regions with different roles. most often in machine learning picking the right model architecture that best describes the data is an art and well worth spending some time on.\n",
    "\n",
    "4: When we initiated our models parameters we already knew roughly what they should be based on our knowledge of biology. However, it is not always the case that we have such prior knowledge, in those cases we usually start from a uniform distribution of the parameters.\n",
    "\n",
    "5: When translating our predicted genes you can see that some places is annotated with * rather then a character of an amino acid these residues indicate instead that a stop codon was translated. \n",
    "\n",
    "6: The function provided for you to extract gene positions requires a regular expression (pattern) that describes what a gene looks like given the hidden states you chose (\"C+\" here). If you have trouble adjusting it for your model, get in touch with us since regexes were not covered in the course. If you want to experiment, https://regex101.com/ is a great size that tests and analyzes regexes"
   ]
  },
  {
   "attachments": {},
   "cell_type": "markdown",
   "id": "3391a442-6c03-4281-84ba-70e68f83a5f7",
   "metadata": {},
   "source": [
    "# 4. Assignment: Build a better HMM\n",
    "\n",
    "Your turn! Create a better HMM using the example and code provided and try your best to get better results.\n",
    "How well can you do against Augustus? :) (the important thing is to build + use the model so don't worry about matching it - just aim to improve results)\n",
    "\n",
    "\n",
    "Remember to Have fun!"
   ]
  },
  {
   "cell_type": "markdown",
   "id": "cb01485b-e40d-4901-94fe-ca6963f9cf0a",
   "metadata": {},
   "source": [
    "**To complete this homework you need to:**\n",
    "\n",
    "1. Initiate your own HMM model (DO NOT USE THE SIMPLE 2 STATE EXAMPLE!!!)\n",
    "    * Explain the architecture of your model states emmissions etc.\n",
    "    * Explain what initial parameters you chose and why.\n",
    "    * Explain if you use any of the references provided or you found your own.\n",
    "    * Explain if you did test different model architectures or different initial parameters (Not a requirement that you do)\n",
    "2. Train your model on data\n",
    "    * Explain what data you used as training data and why (what chromosomes)\n",
    "    * Explain what training algorithm you used, did you test both?\n",
    "    * Explain how many training iterations did you use and why that number.\n",
    "3. Evaluate your model with augustus results as shown in the example code.\n",
    "    * Explain what data you used as testing data (should not be the same as training data).\n",
    "    * Show at least three histograms with the augustus results initial model and trained model\n",
    "    * Discuss shortly the evaluation, did your model improve with training, did you get close to augustus?\n",
    "4. Given unlimited resorces in both compute and time would you have liked test something more? (just a few sentences)\n"
   ]
  },
  {
   "cell_type": "markdown",
   "id": "a973d455-38e0-48a1-a0ef-98072963d04f",
   "metadata": {},
   "source": [
    "### Change training set"
   ]
  },
  {
   "cell_type": "code",
   "execution_count": 10,
   "id": "b3af030e-53ec-48a8-aabc-6cd36dac2cbe",
   "metadata": {},
   "outputs": [],
   "source": [
    "# Preparing training set using chromosome 1-2\n",
    "training_observations = extract_sequence(reference_genome_set, [1, 2])\n",
    "\n",
    "# Preparing test set using chromosomes 3-17 (18 in `range` since it is noninclusive)\n",
    "test_observations = extract_sequence(reference_genome_set, range(3,18))\n",
    "#test_observations = extract_sequence(reference_genome_set, [3, 4]) # To compare to simple model\n",
    "\n",
    "test_observations_string = \"\".join(test_observations)\n",
    "\n",
    "X = []\n",
    "for chromosome in training_observations:\n",
    "    row = []\n",
    "    for char in chromosome:\n",
    "        row.append([vocab2id[char]])\n",
    "    X.append(row)\n",
    "    \n",
    "X_training = np.concatenate(X)  \n",
    "lengths_training = [len(x) for x in X]\n",
    "\n",
    "X = []\n",
    "for chromosome in test_observations:\n",
    "    row = []\n",
    "    for char in chromosome:\n",
    "        row.append([vocab2id[char]])\n",
    "    X.append(row)\n",
    "    \n",
    "X_test = np.concatenate(X)  \n",
    "lengths_test = [len(x) for x in X]"
   ]
  },
  {
   "cell_type": "markdown",
   "id": "efc00854-8f6e-4dba-8db9-ac037c2fc0d9",
   "metadata": {},
   "source": [
    "### Define states"
   ]
  },
  {
   "cell_type": "code",
   "execution_count": 11,
   "id": "1aa604a4-b10b-4886-994f-193b6bc9dd38",
   "metadata": {},
   "outputs": [],
   "source": [
    "# Define the hidden states of your HMM model\n",
    "states = [\"C\", \"I\", \"N\"] # Coding: C; Intron: I; Noncoding: N\n",
    "\n",
    "# Conversion dictionary states (char to int)\n",
    "id2region = dict(zip(range(len(states)), states))\n",
    "\n",
    "vocabulary = [\"A\", \"C\", \"G\", \"T\"]\n",
    "# Convert \"sentences\" to numbers:\n",
    "vocab2id = dict(zip(vocabulary, range(len(vocabulary))))\n",
    "id2vocab = {value: key for key, value in vocab2id.items()}"
   ]
  },
  {
   "cell_type": "markdown",
   "id": "ed3c545d-8746-498d-8cb0-6f0a042f6707",
   "metadata": {},
   "source": [
    "### Model Parameters"
   ]
  },
  {
   "cell_type": "code",
   "execution_count": 12,
   "id": "f4c0fdba-21aa-4811-bc35-52c30d736a5f",
   "metadata": {},
   "outputs": [],
   "source": [
    "# Model Parameters\n",
    "# Start probabilites from the simple 2 state model, \n",
    "# the N from there is split into I and N here, with the largest part for N: \n",
    "# Assumes that the noncoding part from before can be divided into intron and noncoding.\n",
    "start_probs = np.array([0.3, 0.2, 0.5])\n",
    "                        # C    I    N\n",
    "\n",
    "# Emission probs for C and I from simple 2 state model,\n",
    "# The second state is set with even prob since it is unknown\n",
    "emission_probs = np.array([[0.3, 0.1, 0.25],    # A\n",
    "                           [0.3, 0.1, 0.25],    # C\n",
    "                           [0.2, 0.4, 0.25],    # G\n",
    "                           [0.2, 0.4, 0.25]]).T # T\n",
    "                          # C     I    N\n",
    "\n",
    "# Transition probs from simple 2 state model,\n",
    "# Set I to 5% as for N, lower C accordingly \n",
    "# The last row (N) is set evenly since it is unknown, \n",
    "# and I takes the values from N from before\n",
    "trans_mat = np.array([[0.990, 0.005, 0.005], # C\n",
    "                      [0.01, 0.95, 0.04],    # I\n",
    "                      [0.34, 0.33, 0.33]])   # N\n",
    "                       # C    I    N\n",
    "# Final note but I do not have time to correct this: The transition from I to N \n",
    "# should be zero, since you shuldn't be able to go from an intron to a noncoding region?\n",
    "# Overall the even spread of the last row is not optimal, and should be set to something better\n",
    "# since we have such a limited amount of training data (especially since I used only chr I and II.) "
   ]
  },
  {
   "cell_type": "markdown",
   "id": "1f693fbe-0374-41bd-8750-1ce2ff84de2f",
   "metadata": {},
   "source": [
    "### Initial model"
   ]
  },
  {
   "cell_type": "code",
   "execution_count": 13,
   "id": "372c8360-5406-4889-880d-82bedd94b1f4",
   "metadata": {},
   "outputs": [
    {
     "name": "stderr",
     "output_type": "stream",
     "text": [
      "/opt/conda/lib/python3.10/site-packages/Bio/Seq.py:2880: BiopythonWarning: Partial codon, len(sequence) not a multiple of three. Explicitly trim the sequence or add trailing N before translation. This may become an error in future.\n",
      "  warnings.warn(\n"
     ]
    },
    {
     "name": "stdout",
     "output_type": "stream",
     "text": [
      "The initial model has predicted: 200732 Stop Codons as coding \n"
     ]
    },
    {
     "data": {
      "image/png": "[encoded data removed]",
      "text/plain": [
       "<Figure size 1000x500 with 2 Axes>"
      ]
     },
     "metadata": {},
     "output_type": "display_data"
    }
   ],
   "source": [
    "# Initiating a simple HMM model\n",
    "gene_annot_model = hmm.CategoricalHMM(n_components=3, n_iter=50, init_params='')\n",
    "\n",
    " #Set the initial parameters\n",
    "gene_annot_model.startprob_ = start_probs  # Initial probabilities for each state\n",
    "gene_annot_model.transmat_ = trans_mat  # Transition probabilities between states                       \n",
    "gene_annot_model.emissionprob_ = emission_probs  # Emission probabilities for each symbol in each state\n",
    "\n",
    "\n",
    "### Evaluate initial model\n",
    "PATTERN = \"C+(I*C+)*\"  # Pattern for recognizing at least one C, with optional I between them\n",
    "\n",
    "# Using Viterbi algorithm to predict annotations with initial model\n",
    "annotation_initial_model_int = gene_annot_model.predict(X_test, lengths_test)\n",
    "annotation_initial_model_char = [ id2region[_id] for _id in annotation_initial_model_int] \n",
    "\n",
    "# Getting start and stop indices of annotations for initial model\n",
    "annotation_indices_initial_model = get_gene_start_and_stop_from_annotation(annotation_initial_model_char, PATTERN)\n",
    "# Getting start and stop indices of annotations for trained model\n",
    "\n",
    "# Converting annotations to proteins for initial model\n",
    "proteins_initial_model = convert_to_proteins(annotation_indices_initial_model, test_observations_string)\n",
    "\n",
    "# Counting Stop codons\n",
    "n_StopCodons_initial_model = check_for_stop_codon(proteins_initial_model)\n",
    "\n",
    "print(f\"The initial model has predicted: {n_StopCodons_initial_model} Stop Codons as coding \")\n",
    "\n",
    "# Getting widths of sequences\n",
    "width_augustus = [len(seq) for seq in proteins_agustus]\n",
    "width_initial_model = [len(seq) for seq in proteins_initial_model]\n",
    "#width_trained_model = [len(seq) for seq in proteins_trained_model]\n",
    "\n",
    "# Plotting histograms\n",
    "plt.figure(figsize=(10, 5))\n",
    "\n",
    "plt.subplot(1, 3, 1)\n",
    "plt.hist(width_augustus, bins=20, color='blue', alpha=0.7)\n",
    "plt.title('Augustus Annotations')\n",
    "plt.xlabel('Length')\n",
    "plt.ylabel('Frequency')\n",
    "\n",
    "plt.subplot(1, 3, 2)\n",
    "plt.hist(width_initial_model, bins=20, color='green', alpha=0.7)\n",
    "plt.title('Initial Model Predictions')\n",
    "plt.xlabel('Length')\n",
    "plt.ylabel('Frequency')\n",
    "\n",
    "\n",
    "plt.tight_layout()\n",
    "plt.show()"
   ]
  },
  {
   "cell_type": "markdown",
   "id": "3c087975-2d42-4d33-a036-dda2f782002a",
   "metadata": {},
   "source": [
    "### Training model"
   ]
  },
  {
   "cell_type": "code",
   "execution_count": 14,
   "id": "68794021-97ba-4541-89fa-fa7415ffccfd",
   "metadata": {},
   "outputs": [
    {
     "name": "stdout",
     "output_type": "stream",
     "text": [
      "Execution time: 33.08104920387268 seconds\n"
     ]
    }
   ],
   "source": [
    "start_time = time.time()\n",
    "\n",
    "# Training the model using Viterbi training\n",
    "gene_annot_model.fit(X_training, lengths_training)\n",
    "\n",
    "end_time = time.time()\n",
    "execution_time = end_time - start_time\n",
    "\n",
    "print(\"Execution time:\", execution_time, \"seconds\")"
   ]
  },
  {
   "cell_type": "markdown",
   "id": "e5e45137-6f1c-4ae9-8406-f6703a4d97c0",
   "metadata": {},
   "source": [
    "### Annotate chromosome"
   ]
  },
  {
   "cell_type": "code",
   "execution_count": 15,
   "id": "bea69fd9-84fd-4b28-9811-80e895c57562",
   "metadata": {},
   "outputs": [
    {
     "name": "stderr",
     "output_type": "stream",
     "text": [
      "/opt/conda/lib/python3.10/site-packages/Bio/Seq.py:2880: BiopythonWarning: Partial codon, len(sequence) not a multiple of three. Explicitly trim the sequence or add trailing N before translation. This may become an error in future.\n",
      "  warnings.warn(\n"
     ]
    }
   ],
   "source": [
    "PATTERN = \"C+(I*C+)*\"  # Pattern for recognizing at least one C, with optional I between them\n",
    "\n",
    "# Using Viterbi algorithm to predict annotations with initial model\n",
    "annotation_trained_model_int = gene_annot_model.predict(X_test, lengths_test)\n",
    "annotation_trained_model_char = [ id2region[_id] for _id in annotation_trained_model_int] \n",
    "\n",
    "# Getting start and stop indices of annotations for initial model\n",
    "annotation_indices_trained_model = get_gene_start_and_stop_from_annotation(annotation_trained_model_char, PATTERN)\n",
    "\n",
    "# Converting annotations to proteins for initial model\n",
    "proteins_trained_model = convert_to_proteins(annotation_indices_trained_model, test_observations_string)"
   ]
  },
  {
   "cell_type": "markdown",
   "id": "23d2d7bd-6116-4b87-9b13-ef514156fe51",
   "metadata": {},
   "source": [
    "### Evaluating trained model"
   ]
  },
  {
   "cell_type": "code",
   "execution_count": 16,
   "id": "20bdaace-36f4-408d-af4f-eeb458143e3d",
   "metadata": {},
   "outputs": [
    {
     "name": "stdout",
     "output_type": "stream",
     "text": [
      "The initial model has predicted: 200732 Stop Codons as coding \n",
      "The trained model has predicted: 194576 Stop Codons as coding \n"
     ]
    },
    {
     "data": {
      "image/png": "[encoded data removed]",
      "text/plain": [
       "<Figure size 1000x500 with 3 Axes>"
      ]
     },
     "metadata": {},
     "output_type": "display_data"
    }
   ],
   "source": [
    "n_StopCodons_trained_model = check_for_stop_codon(proteins_trained_model)\n",
    "\n",
    "print(f\"The initial model has predicted: {n_StopCodons_initial_model} Stop Codons as coding \")\n",
    "print(f\"The trained model has predicted: {n_StopCodons_trained_model} Stop Codons as coding \")\n",
    "\n",
    "# Getting widths of sequences\n",
    "width_augustus = [len(seq) for seq in proteins_agustus]\n",
    "width_initial_model = [len(seq) for seq in proteins_initial_model]\n",
    "width_trained_model = [len(seq) for seq in proteins_trained_model]\n",
    "\n",
    "# Plotting histograms\n",
    "plt.figure(figsize=(10, 5))\n",
    "\n",
    "plt.subplot(1, 3, 1)\n",
    "plt.hist(width_augustus, bins=20, color='blue', alpha=0.7)\n",
    "plt.title('Augustus Annotations')\n",
    "plt.xlabel('Length')\n",
    "plt.ylabel('Frequency')\n",
    "\n",
    "plt.subplot(1, 3, 2)\n",
    "plt.hist(width_initial_model, bins=20, color='green', alpha=0.7)\n",
    "plt.title('Initial Model Predictions')\n",
    "plt.xlabel('Length')\n",
    "plt.ylabel('Frequency')\n",
    "\n",
    "plt.subplot(1, 3, 3)\n",
    "plt.hist(width_trained_model, bins=20, color='orange', alpha=0.7)\n",
    "plt.title('Trained Model Predictions')\n",
    "plt.xlabel('Length')\n",
    "plt.ylabel('Frequency')\n",
    "\n",
    "plt.tight_layout()\n",
    "plt.show()"
   ]
  },
  {
   "attachments": {},
   "cell_type": "markdown",
   "id": "83dd7c00-ead9-48f8-8b85-77642f1d9647",
   "metadata": {},
   "source": [
    "# 5. Questions\n",
    "\n",
    "**To complete this homework you need to:**\n",
    "\n",
    "1. Initiate your own HMM model (DO NOT USE THE SIMPLE 2 STATE EXAMPLE!!!)\n",
    "    * Explain the architecture of your model states emmissions etc.\n",
    "    * Explain what initial parameters you chose and why.\n",
    "    * Explain if you use any of the references provided or you found your own.\n",
    "    * Explain if you did test different model architectures or different initial parameters (Not a requirement that you do)\n",
    "\n",
    "> The new model uses three states: Coding (C), Intron (I), and Noncoding (N). This model is based on the simple two-state model, but here the Noncoding is split into two new parts: intron and noncoding. The initial parameters reflect this choice, where the start, emission and transition probabilities are based on those given for the simple model. For example the start probability for C is the same, and the probabilities for C+N is the same as the start probability for N in the simple model. For better comments see [#Model Parameters](#Model-Parameters) \n",
    "\n",
    ">I tried to start with the probabilites in the [lecture slides from the University of Waterloo](https://www.math.uwaterloo.ca/~aghodsib/courses/w05stat440/w05stat440-notes/feb27.pdf) and then improve them, but then my model didn't work as expected (identified 800 stop codons in chromosome 3 and 4) and I couldn't get it to perform better, therefore I moved on to try to improve the simple model. The low amount of identified stop codons may be because of the relatively low amount of training data, and expanding this data set to include more chromosomes may have solved the issue.\n",
    "\n",
    "2. Train your model on data\n",
    "    * Explain what data you used as training data and why (what chromosomes)\n",
    "    * Explain what training algorithm you used, did you test both?\n",
    "    * Explain how many training iterations did you use and why that number.\n",
    "\n",
    "> I used chromsome 1 and 2 as training data, to be able to compare it better to the simple model. I only used the viterbi training algorithm. I used only 50 training iterations, since my testing with the first model (probabilites from the Waterloo lecture slides) seemed to show that it was enough.\n",
    "\n",
    "3. Evaluate your model with augustus results as shown in the example code.\n",
    "    * Explain what data you used as testing data (should not be the same as training data).\n",
    "    * Show at least three histograms with the augustus results initial model and trained model\n",
    "    * Discuss shortly the evaluation, did your model improve with training, did you get close to augustus?\n",
    "\n",
    "> I first used only chromosome 3 and 4 as testing data, to be able to compare the graphs and stop codon count with the simple model, and then used all chromosomes not in the training data as testing data (chromosome 3-17), which is the data for the generated histograms shown in [#Evaluating trained model](#Evaluating-trained-model) above, just above \"5. Questions\".\n",
    "\n",
    "> There is not a large difference between the shapes of the histograms for the initial model and the trained model, but the trained model does not have as many long segments. In the histogram for the initial model the longest segment seem to be close to 6000 in length, but in the trained model they seem to be as long as the longest in the augustus annotation. Both histograms for the models have approximately the same shape as the augustus annotations, but the Frequency is too high for both of them.\n",
    "\n",
    "4. Given unlimited resorces in both compute and time would you have liked test something more? (just a few sentences)\n",
    "\n",
    "> It is probably not hard to do but I would have liked to construct the HMM seen in figure 1 in the paper you linked: [Hidden Markov Models and their Applications in Biological Sequence Analysis](https://www.ncbi.nlm.nih.gov/pmc/articles/PMC2766791/). The ability to model each position in the codon is really interesting to me for some reason."
   ]
  },
  {
   "cell_type": "code",
   "execution_count": null,
   "id": "310839a2-e7f7-406b-a3c8-3db305127571",
   "metadata": {},
   "outputs": [],
   "source": []
  },
  {
   "cell_type": "code",
   "execution_count": null,
   "id": "8137be46-fedb-4cd4-a38a-e02bbafbebe3",
   "metadata": {},
   "outputs": [],
   "source": []
  }
 ],
 "metadata": {
  "kernelspec": {
   "display_name": "Python 3 (ipykernel)",
   "language": "python",
   "name": "python3"
  },
  "language_info": {
   "codemirror_mode": {
    "name": "ipython",
    "version": 3
   },
   "file_extension": ".py",
   "mimetype": "text/x-python",
   "name": "python",
   "nbconvert_exporter": "python",
   "pygments_lexer": "ipython3",
   "version": "3.10.13"
  }
 },
 "nbformat": 4,
 "nbformat_minor": 5
}
